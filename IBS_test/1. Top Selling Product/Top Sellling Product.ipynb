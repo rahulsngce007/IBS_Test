{
 "cells": [
  {
   "cell_type": "code",
   "execution_count": 14,
   "metadata": {},
   "outputs": [],
   "source": [
    "import pandas as pd\n",
    "import numpy as np"
   ]
  },
  {
   "cell_type": "code",
   "execution_count": 16,
   "metadata": {},
   "outputs": [],
   "source": [
    "df=pd.read_excel(\"Test_Scenario1.xls\", dtype = {'AGE': str})\n",
    "df=df.dropna(subset=['AGE'])"
   ]
  },
  {
   "cell_type": "code",
   "execution_count": 17,
   "metadata": {},
   "outputs": [],
   "source": [
    "df=df[['CUSTOMER_NUMBER', 'AGE', 'COUNTRY', 'MARITAL_STATUS', 'PRODUCT_CODE',\n",
    "       'PURCHASE_DATE', 'TRANS_NUM']]"
   ]
  },
  {
   "cell_type": "code",
   "execution_count": 18,
   "metadata": {},
   "outputs": [],
   "source": [
    "df[\"AGE\"]=df[\"AGE\"].replace('nan',0)\n",
    "df[\"AGE\"]=df[\"AGE\"].astype(int)"
   ]
  },
  {
   "cell_type": "code",
   "execution_count": 19,
   "metadata": {},
   "outputs": [],
   "source": [
    "df['Age_Bucket'] = np.where(df[\"AGE\"]<=0, 'Missing', \n",
    "                        np.where(df[\"AGE\"] <=12, '<12',\n",
    "                          np.where(df[\"AGE\"] <=19, '12-19',\n",
    "                                  np.where(df[\"AGE\"] <=29, '20-29',\n",
    "                                          np.where(df[\"AGE\"] <=39, '30-39',\n",
    "                                                  np.where(df[\"AGE\"] <=49, '40-49','>50'))))))"
   ]
  },
  {
   "cell_type": "code",
   "execution_count": 20,
   "metadata": {},
   "outputs": [],
   "source": [
    "df2=df.groupby(['Age_Bucket','PRODUCT_CODE'])[\"PURCHASE_DATE\"].count()\n",
    "df2=df2.reset_index()\n",
    "df2=df2.sort_values(['Age_Bucket', 'PURCHASE_DATE'], ascending=[True, False])"
   ]
  },
  {
   "cell_type": "code",
   "execution_count": 21,
   "metadata": {},
   "outputs": [],
   "source": [
    "grouped_df = df2.groupby('Age_Bucket').head(3)"
   ]
  },
  {
   "cell_type": "code",
   "execution_count": 23,
   "metadata": {},
   "outputs": [],
   "source": [
    "grouped_df.to_csv('top_3_selling_product.csv')"
   ]
  },
  {
   "cell_type": "code",
   "execution_count": null,
   "metadata": {},
   "outputs": [],
   "source": []
  }
 ],
 "metadata": {
  "kernelspec": {
   "display_name": "Python 3",
   "language": "python",
   "name": "python3"
  },
  "language_info": {
   "codemirror_mode": {
    "name": "ipython",
    "version": 3
   },
   "file_extension": ".py",
   "mimetype": "text/x-python",
   "name": "python",
   "nbconvert_exporter": "python",
   "pygments_lexer": "ipython3",
   "version": "3.6.5"
  }
 },
 "nbformat": 4,
 "nbformat_minor": 2
}
