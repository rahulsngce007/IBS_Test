{
 "cells": [
  {
   "cell_type": "code",
   "execution_count": 45,
   "metadata": {},
   "outputs": [],
   "source": [
    "import pandas as pd\n",
    "import matplotlib.pyplot as plt\n",
    "plt.style.use('fivethirtyeight')"
   ]
  },
  {
   "cell_type": "code",
   "execution_count": 46,
   "metadata": {},
   "outputs": [],
   "source": [
    "import numpy as np\n",
    "from statsmodels.tsa.arima_model import ARIMA"
   ]
  },
  {
   "cell_type": "code",
   "execution_count": 49,
   "metadata": {},
   "outputs": [],
   "source": [
    "df=pd.read_csv('Test_Scenario4.csv')"
   ]
  },
  {
   "cell_type": "code",
   "execution_count": 50,
   "metadata": {},
   "outputs": [
    {
     "name": "stderr",
     "output_type": "stream",
     "text": [
      "C:\\Users\\Rohit\\Anaconda3\\lib\\site-packages\\ipykernel_launcher.py:3: SettingWithCopyWarning: \n",
      "A value is trying to be set on a copy of a slice from a DataFrame\n",
      "\n",
      "See the caveats in the documentation: http://pandas.pydata.org/pandas-docs/stable/indexing.html#indexing-view-versus-copy\n",
      "  This is separate from the ipykernel package so we can avoid doing imports until\n"
     ]
    }
   ],
   "source": [
    "df[\"DEP_DATE_2\"]=\"\"\n",
    "for i in range(len(df)):\n",
    "    df[\"DEP_DATE_2\"][i]=datetime.datetime.strptime(df[\"DEP_DATE\"][i], '%d-%m-%Y %H:%M')"
   ]
  },
  {
   "cell_type": "code",
   "execution_count": 51,
   "metadata": {},
   "outputs": [],
   "source": [
    "df=df[[\"DEP_DATE_2\",\"NET_BOOKINGS\"]]"
   ]
  },
  {
   "cell_type": "code",
   "execution_count": 52,
   "metadata": {},
   "outputs": [],
   "source": [
    "df = df.set_index('DEP_DATE_2')"
   ]
  },
  {
   "cell_type": "code",
   "execution_count": 53,
   "metadata": {},
   "outputs": [
    {
     "data": {
      "image/png": "[encoded data removed]",
      "text/plain": [
       "<Figure size 432x288 with 1 Axes>"
      ]
     },
     "metadata": {},
     "output_type": "display_data"
    }
   ],
   "source": [
    "df.plot()\n",
    "plt.show()"
   ]
  },
  {
   "cell_type": "code",
   "execution_count": 54,
   "metadata": {},
   "outputs": [],
   "source": [
    "# create a differenced series\n",
    "def difference(dataset, interval=1):\n",
    "    diff = list()\n",
    "    for i in range(interval, len(dataset)):\n",
    "        value = dataset[i] - dataset[i - interval]\n",
    "        diff.append(value)\n",
    "    return np.array(diff)"
   ]
  },
  {
   "cell_type": "code",
   "execution_count": 55,
   "metadata": {},
   "outputs": [],
   "source": [
    "def inverse_difference(history, yhat, interval=1):\n",
    "    return yhat + history[-interval]"
   ]
  },
  {
   "cell_type": "code",
   "execution_count": 56,
   "metadata": {},
   "outputs": [
    {
     "name": "stdout",
     "output_type": "stream",
     "text": [
      "                              ARMA Model Results                              \n",
      "==============================================================================\n",
      "Dep. Variable:                      y   No. Observations:                  728\n",
      "Model:                     ARMA(7, 1)   Log Likelihood               -3010.650\n",
      "Method:                       css-mle   S.D. of innovations             15.126\n",
      "Date:                Wed, 10 Mar 2021   AIC                           6041.300\n",
      "Time:                        07:48:55   BIC                           6087.203\n",
      "Sample:                             0   HQIC                          6059.011\n",
      "                                                                              \n",
      "==============================================================================\n",
      "                 coef    std err          z      P>|z|      [0.025      0.975]\n",
      "------------------------------------------------------------------------------\n",
      "const         -0.8174      0.632     -1.293      0.197      -2.057       0.422\n",
      "ar.L1.y        0.1419      0.258      0.550      0.583      -0.364       0.648\n",
      "ar.L2.y       -0.1052      0.041     -2.593      0.010      -0.185      -0.026\n",
      "ar.L3.y       -0.0088      0.045     -0.193      0.847      -0.098       0.080\n",
      "ar.L4.y       -0.0330      0.038     -0.879      0.380      -0.107       0.041\n",
      "ar.L5.y       -0.0113      0.038     -0.295      0.768      -0.086       0.064\n",
      "ar.L6.y        0.0933      0.038      2.477      0.013       0.019       0.167\n",
      "ar.L7.y        0.1191      0.046      2.566      0.010       0.028       0.210\n",
      "ma.L1.y       -0.0915      0.260     -0.353      0.725      -0.600       0.417\n",
      "                                    Roots                                    \n",
      "=============================================================================\n",
      "                  Real          Imaginary           Modulus         Frequency\n",
      "-----------------------------------------------------------------------------\n",
      "AR.1            1.2910           -0.0000j            1.2910           -0.0000\n",
      "AR.2            0.7317           -0.9964j            1.2362           -0.1492\n",
      "AR.3            0.7317           +0.9964j            1.2362            0.1492\n",
      "AR.4           -0.3685           -1.2870j            1.3388           -0.2944\n",
      "AR.5           -0.3685           +1.2870j            1.3388            0.2944\n",
      "AR.6           -1.4004           -0.6437j            1.5412           -0.4314\n",
      "AR.7           -1.4004           +0.6437j            1.5412            0.4314\n",
      "MA.1           10.9288           +0.0000j           10.9288            0.0000\n",
      "-----------------------------------------------------------------------------\n"
     ]
    }
   ],
   "source": [
    "X = df.values\n",
    "days_in_year = 365\n",
    "differenced = difference(X, days_in_year)\n",
    "# fit model\n",
    "model = ARIMA(differenced, order=(7,0,1))\n",
    "model_fit = model.fit()\n",
    "# print summary of fit model\n",
    "print(model_fit.summary())"
   ]
  },
  {
   "cell_type": "code",
   "execution_count": 57,
   "metadata": {},
   "outputs": [],
   "source": [
    "# one-step out-of sample forecast\n",
    "forecast = model_fit.forecast()[0]"
   ]
  },
  {
   "cell_type": "code",
   "execution_count": 58,
   "metadata": {},
   "outputs": [
    {
     "data": {
      "text/plain": [
       "array([0.66297063])"
      ]
     },
     "execution_count": 58,
     "metadata": {},
     "output_type": "execute_result"
    }
   ],
   "source": [
    "forecast"
   ]
  },
  {
   "cell_type": "code",
   "execution_count": 59,
   "metadata": {},
   "outputs": [
    {
     "name": "stdout",
     "output_type": "stream",
     "text": [
      "Forecast: 82.662971\n"
     ]
    }
   ],
   "source": [
    "forecast = inverse_difference(X, forecast, days_in_year)\n",
    "print('Forecast: %f' % forecast)"
   ]
  },
  {
   "cell_type": "code",
   "execution_count": 71,
   "metadata": {},
   "outputs": [],
   "source": [
    "forecast = model_fit.forecast(steps=30)"
   ]
  },
  {
   "cell_type": "code",
   "execution_count": 72,
   "metadata": {},
   "outputs": [],
   "source": [
    "forecast=forecast[0]"
   ]
  },
  {
   "cell_type": "code",
   "execution_count": 81,
   "metadata": {},
   "outputs": [
    {
     "name": "stdout",
     "output_type": "stream",
     "text": [
      "Day 1: 82.662971\n",
      "Day 2: 82.771819\n",
      "Day 3: 74.658657\n",
      "Day 4: 72.985816\n",
      "Day 5: 70.969517\n",
      "Day 6: 58.529874\n",
      "Day 7: 61.662284\n",
      "Day 8: 64.595633\n",
      "Day 9: 50.789935\n",
      "Day 10: 30.422611\n",
      "Day 11: 32.037196\n",
      "Day 12: 27.918369\n",
      "Day 13: 57.007341\n",
      "Day 14: 81.148599\n",
      "Day 15: 32.306467\n",
      "Day 16: 62.310391\n",
      "Day 17: 33.211831\n",
      "Day 18: 37.133404\n",
      "Day 19: 33.119944\n",
      "Day 20: 56.148998\n",
      "Day 21: 81.189978\n",
      "Day 22: 35.215724\n",
      "Day 23: 52.207419\n",
      "Day 24: 43.183317\n",
      "Day 25: 46.168269\n",
      "Day 26: 46.168534\n",
      "Day 27: 49.177630\n",
      "Day 28: 75.187195\n",
      "Day 29: 62.190654\n",
      "Day 30: 33.186984\n"
     ]
    }
   ],
   "source": [
    "history = [x for x in X]\n",
    "day = 1\n",
    "for yhat in forecast:\n",
    "    inverted = inverse_difference(history, yhat, days_in_year)\n",
    "    print('Day %d: %f' % (day, inverted))\n",
    "    history.append(inverted)\n",
    "    day += 1"
   ]
  },
  {
   "cell_type": "code",
   "execution_count": 93,
   "metadata": {},
   "outputs": [
    {
     "name": "stdout",
     "output_type": "stream",
     "text": [
      "Day 1: 82.662971\n",
      "Day 1: 83.771819\n",
      "Day 1: 82.658657\n",
      "Day 1: 80.985816\n",
      "Day 1: 79.969517\n",
      "Day 1: 80.529874\n",
      "Day 1: 80.662284\n",
      "Day 1: 81.595633\n",
      "Day 1: 81.789935\n",
      "Day 1: 81.422611\n",
      "Day 1: 81.037196\n",
      "Day 1: 80.918369\n",
      "Day 1: 81.007341\n",
      "Day 1: 81.148599\n",
      "Day 1: 81.306467\n",
      "Day 1: 81.310391\n",
      "Day 1: 81.211831\n",
      "Day 1: 81.133404\n",
      "Day 1: 81.119944\n",
      "Day 1: 81.148998\n",
      "Day 1: 81.189978\n",
      "Day 1: 81.215724\n",
      "Day 1: 81.207419\n",
      "Day 1: 81.183317\n",
      "Day 1: 81.168269\n",
      "Day 1: 81.168534\n",
      "Day 1: 81.177630\n",
      "Day 1: 81.187195\n",
      "Day 1: 81.190654\n",
      "Day 1: 81.186984\n"
     ]
    }
   ],
   "source": [
    "history = [x for x in X]\n",
    "df_30 = pd.DataFrame(columns=['day', 'forecast'])\n",
    "day = 1\n",
    "for yhat in forecast:\n",
    "    inverted = inverse_difference(history, yhat, days_in_year)\n",
    "    print('Day %d: %f' % (day, inverted))\n",
    "    values_to_add = {'day': day, 'forecast': inverted}\n",
    "    row_to_add = pd.Series(values_to_add)\n",
    "    df_30 = df_30.append(row_to_add, ignore_index=True)"
   ]
  },
  {
   "cell_type": "code",
   "execution_count": 95,
   "metadata": {},
   "outputs": [],
   "source": [
    "df_30.to_csv('30 Days Forecast')"
   ]
  },
  {
   "cell_type": "code",
   "execution_count": null,
   "metadata": {},
   "outputs": [],
   "source": []
  }
 ],
 "metadata": {
  "kernelspec": {
   "display_name": "Python 3",
   "language": "python",
   "name": "python3"
  },
  "language_info": {
   "codemirror_mode": {
    "name": "ipython",
    "version": 3
   },
   "file_extension": ".py",
   "mimetype": "text/x-python",
   "name": "python",
   "nbconvert_exporter": "python",
   "pygments_lexer": "ipython3",
   "version": "3.6.5"
  }
 },
 "nbformat": 4,
 "nbformat_minor": 2
}
