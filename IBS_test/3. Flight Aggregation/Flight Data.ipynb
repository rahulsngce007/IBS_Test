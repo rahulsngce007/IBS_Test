{
 "cells": [
  {
   "cell_type": "code",
   "execution_count": 1,
   "metadata": {},
   "outputs": [],
   "source": [
    "import pandas as pd\n",
    "import numpy as np"
   ]
  },
  {
   "cell_type": "code",
   "execution_count": 2,
   "metadata": {},
   "outputs": [],
   "source": [
    "df=pd.read_excel(\"Test_Scenario3.xls\")"
   ]
  },
  {
   "cell_type": "code",
   "execution_count": 3,
   "metadata": {},
   "outputs": [],
   "source": [
    "df=df[['FLIGHT_DATE ', 'FLIGHT_NUMBER ', 'ORIGIN', 'DESTINATION',\n",
    "       'PNR_NUMBER ', 'PNR_STATUS ']]"
   ]
  },
  {
   "cell_type": "code",
   "execution_count": 4,
   "metadata": {},
   "outputs": [],
   "source": [
    "df_2=df.groupby(['FLIGHT_DATE ','FLIGHT_NUMBER '])['PNR_NUMBER '].count()\n",
    "df_2=df_2.reset_index()"
   ]
  },
  {
   "cell_type": "code",
   "execution_count": 5,
   "metadata": {},
   "outputs": [],
   "source": [
    "df[\"flag\"]=1"
   ]
  },
  {
   "cell_type": "code",
   "execution_count": 6,
   "metadata": {},
   "outputs": [],
   "source": [
    "table = pd.pivot_table(df, values='flag', index=['FLIGHT_DATE ','FLIGHT_NUMBER '],columns=['PNR_STATUS '], aggfunc=np.sum)\n",
    "table=table.reset_index()"
   ]
  },
  {
   "cell_type": "code",
   "execution_count": 7,
   "metadata": {},
   "outputs": [],
   "source": [
    "new_df=df_2.merge(table,left_on=['FLIGHT_DATE ','FLIGHT_NUMBER '], right_on=['FLIGHT_DATE ','FLIGHT_NUMBER '])\n",
    "new_df=new_df[['FLIGHT_DATE ', 'FLIGHT_NUMBER ', 'PNR_NUMBER ', 'ACTIVE']]\n",
    "new_df.columns=['FLIGHT_DATE', 'FLIGHT_NUMBER', 'Total Bookings', 'Net Bookings']"
   ]
  },
  {
   "cell_type": "code",
   "execution_count": 11,
   "metadata": {},
   "outputs": [],
   "source": [
    "new_df.to_csv('flight_data.csv')"
   ]
  },
  {
   "cell_type": "code",
   "execution_count": null,
   "metadata": {},
   "outputs": [],
   "source": []
  }
 ],
 "metadata": {
  "kernelspec": {
   "display_name": "Python 3",
   "language": "python",
   "name": "python3"
  },
  "language_info": {
   "codemirror_mode": {
    "name": "ipython",
    "version": 3
   },
   "file_extension": ".py",
   "mimetype": "text/x-python",
   "name": "python",
   "nbconvert_exporter": "python",
   "pygments_lexer": "ipython3",
   "version": "3.6.5"
  }
 },
 "nbformat": 4,
 "nbformat_minor": 2
}
